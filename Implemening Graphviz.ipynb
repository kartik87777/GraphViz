{
 "cells": [
  {
   "cell_type": "markdown",
   "metadata": {},
   "source": [
    "# Dispaying Decision Trees Online using GraphViz"
   ]
  },
  {
   "cell_type": "markdown",
   "metadata": {},
   "source": [
    "## Let us consider a fruit classification problem"
   ]
  },
  {
   "cell_type": "code",
   "execution_count": 1,
   "metadata": {},
   "outputs": [],
   "source": [
    "import pandas as pd\n",
    "import numpy as np\n",
    "from sklearn import tree"
   ]
  },
  {
   "cell_type": "markdown",
   "metadata": {},
   "source": [
    "## Create and load the data in Pandas dataframe"
   ]
  },
  {
   "cell_type": "code",
   "execution_count": 2,
   "metadata": {},
   "outputs": [],
   "source": [
    "# creating dataset for modeling Apple / Orange classification\n",
    "fruit_data_set = pd.DataFrame()\n",
    "fruit_data_set[\"fruit\"] = np.array([1, 1, 1, 1, 1,      # 1 for apple\n",
    "                                    0, 0, 0, 0, 0])     # 0 for orange\n",
    "fruit_data_set[\"weight\"] = np.array([170, 175, 180, 178, 182,\n",
    "                                     130, 120, 130, 138, 145])\n",
    "fruit_data_set[\"smooth\"] = np.array([9, 10, 8, 8, 7,\n",
    "                                     3, 4, 2, 5, 6])"
   ]
  },
  {
   "cell_type": "markdown",
   "metadata": {},
   "source": [
    "## Building the fruit classifier with decision tree algorithm"
   ]
  },
  {
   "cell_type": "code",
   "execution_count": 4,
   "metadata": {},
   "outputs": [
    {
     "name": "stdout",
     "output_type": "stream",
     "text": [
      ">>>>> Trained fruit_classifier <<<<<\n",
      "DecisionTreeClassifier(class_weight=None, criterion='gini', max_depth=None,\n",
      "            max_features=None, max_leaf_nodes=None,\n",
      "            min_impurity_decrease=0.0, min_impurity_split=None,\n",
      "            min_samples_leaf=1, min_samples_split=2,\n",
      "            min_weight_fraction_leaf=0.0, presort=False, random_state=None,\n",
      "            splitter='best')\n"
     ]
    }
   ],
   "source": [
    "fruit_classifier = tree.DecisionTreeClassifier()\n",
    "fruit_classifier.fit(fruit_data_set[[\"weight\", \"smooth\"]], fruit_data_set[\"fruit\"])\n",
    " \n",
    "print (\">>>>> Trained fruit_classifier <<<<<\")\n",
    "print (fruit_classifier)"
   ]
  },
  {
   "cell_type": "markdown",
   "metadata": {},
   "source": [
    "## Predicting the fruit type from the trained classifier"
   ]
  },
  {
   "cell_type": "code",
   "execution_count": 5,
   "metadata": {},
   "outputs": [
    {
     "name": "stdout",
     "output_type": "stream",
     "text": [
      "Actual fruit type: 1 , Fruit classifier predicted: [1]\n",
      "Actual fruit type: 1 , Fruit classifier predicted: [1]\n",
      "Actual fruit type: 0 , Fruit classifier predicted: [0]\n"
     ]
    }
   ],
   "source": [
    "# fruit data set 1st observation\n",
    "test_features_1 = [[fruit_data_set[\"weight\"][0], fruit_data_set[\"smooth\"][0]]]\n",
    "test_features_1_fruit = fruit_classifier.predict(test_features_1)\n",
    "print (\"Actual fruit type: {act_fruit} , Fruit classifier predicted: {predicted_fruit}\".format(\n",
    "    act_fruit=fruit_data_set[\"fruit\"][0], predicted_fruit=test_features_1_fruit))\n",
    " \n",
    "# fruit data set 3rd observation\n",
    "test_features_3 = [[fruit_data_set[\"weight\"][2], fruit_data_set[\"smooth\"][2]]]\n",
    "test_features_3_fruit = fruit_classifier.predict(test_features_3)\n",
    "print (\"Actual fruit type: {act_fruit} , Fruit classifier predicted: {predicted_fruit}\".format(\n",
    "    act_fruit=fruit_data_set[\"fruit\"][2], predicted_fruit=test_features_3_fruit))\n",
    " \n",
    "# fruit data set 8th observation\n",
    "test_features_8 = [[fruit_data_set[\"weight\"][7], fruit_data_set[\"smooth\"][7]]]\n",
    "test_features_8_fruit = fruit_classifier.predict(test_features_8)\n",
    "print (\"Actual fruit type: {act_fruit} , Fruit classifier predicted: {predicted_fruit}\".format(\n",
    "    act_fruit=fruit_data_set[\"fruit\"][7], predicted_fruit=test_features_8_fruit))"
   ]
  },
  {
   "cell_type": "code",
   "execution_count": 6,
   "metadata": {},
   "outputs": [],
   "source": [
    "# The below pseudo code can represent the above graph into simple if else conditions.\n",
    "def predict(weight, smoot):\n",
    "    if weight <= 157.5:\n",
    "        return 0\n",
    "    else:\n",
    "        return 1"
   ]
  },
  {
   "cell_type": "code",
   "execution_count": 7,
   "metadata": {},
   "outputs": [],
   "source": [
    "# After running this code, fruit_classifier.txt will be saved on your local system.\n",
    "with open(\"fruit_classifier.txt\", \"w\") as f:\n",
    "    f = tree.export_graphviz(fruit_classifier, out_file=f)"
   ]
  },
  {
   "cell_type": "markdown",
   "metadata": {},
   "source": [
    "## Now go to your root folder where you can see a file named \"fruit_classifier.txt\". Open the file, copy the contents of the file and paste the contents on the following webpage - http://webgraphviz.com/ and finally click on generate graph button."
   ]
  }
 ],
 "metadata": {
  "kernelspec": {
   "display_name": "Python 3",
   "language": "python",
   "name": "python3"
  },
  "language_info": {
   "codemirror_mode": {
    "name": "ipython",
    "version": 3
   },
   "file_extension": ".py",
   "mimetype": "text/x-python",
   "name": "python",
   "nbconvert_exporter": "python",
   "pygments_lexer": "ipython3",
   "version": "3.7.3"
  }
 },
 "nbformat": 4,
 "nbformat_minor": 2
}
